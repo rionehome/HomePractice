{
 "cells": [
  {
   "cell_type": "markdown",
   "metadata": {},
   "source": [
    "# 音声藩の課題をやってみよう！\n",
    "\n",
    "## 0 この課題を始める前に\n",
    "この課題はubuntuのJupyterLab/JupyterNotebook上で実行することを想定しています．Macやubuntu on WSL等の環境を使っている方は事前に動作するかどうかを先輩に確認を取ってください．この課題に必要なソフトウェアは HomePractice_2020/SoundTadk/README.md に記載しています．このリポジトリをforkして課題を進めることで，同時にGitの練習をすることもできます．
    "\n",
    "## 1 はじめに\n",
    "RoboCupの競技内では人とロボットは音声を通じで指示を出したり，動作の終了を伝えたりという役割を果たしています．初めは難しく感じるかもしれませんが，慣れてくると音声を使って様々なことができるようになるので頑張ってやってみてください．分からないことがあれば，どんな初歩的なことでもいいので2回生に質問してください！\n",
    "\n",
    "## 2 何を作るのか\n",
    "この課題ではSiriなどのように音声で質問をしてそれに対して答えを返すものを作ります．ただし，簡単にするために質問文とその解答はあらかじめ決められていることとします．もっとレベルが上がると文章が多少違ってもその意味が同じであれば，答えを返してくれるレベルの高いものを作ることもできます！！\n",
    "\n",
    "まずは実際にコードを動かしてみましょう！"
   ]
  },
  {
   "cell_type": "markdown",
   "metadata": {},
   "source": [
    "質問文と答えの内容を確認します．"
   ]
  },
  {
   "cell_type": "code",
   "execution_count": null,
   "metadata": {},
   "outputs": [],
   "source": [
    "cat dictionary/QandA_list.csv"
   ]
  },
  {
   "cell_type": "markdown",
   "metadata": {},
   "source": [
    "上に5つの文章が表示されました．「，」の前が疑問文で後が答えです\n",
    "\n",
    "下のコードを実行して好きな質問文をパソコンに向かって話しかけてみましょう\n",
    "５回質問することができます"
   ]
  },
  {
   "cell_type": "code",
   "execution_count": null,
   "metadata": {},
   "outputs": [],
   "source": [
    "import os\n",
    "import csv\n",
    "\n",
    "from pocketsphinx import LiveSpeech, get_model_path\n",
    "from modules import module_beep\n",
    "from modules import module_speak\n",
    "\n",
    "# pathを定義\n",
    "sphinx_model_path = get_model_path()\n",
    "model_path = os.getcwd()\n",
    "dict_path = os.path.join(model_path, 'dictionary/qa_sphinx.dict')\n",
    "gram_path = os.path.join(model_path, 'dictionary/qa_sphinx.gram')\n",
    "QandA_path = os.path.join(model_path, 'dictionary/QandA_list.csv')\n",
    "\n",
    "\n",
    "\n",
    "# QandAのファイルから辞書を作成\n",
    "qa_dictionary = {}\n",
    "with open(QandA_path, 'r') as f:\n",
    "    for line in csv.reader(f):\n",
    "        print(str(line[0]))\n",
    "        qa_dictionary.setdefault(str(line[0]), str(line[1]))\n",
    "\n",
    "\n",
    "\n",
    "def setup_LiveSpech():\n",
    "\n",
    "    ###############\n",
    "    #\n",
    "    # pocketsphinxの設定を行う関数\n",
    "    #\n",
    "    # 引数：なし\n",
    "    # \n",
    "    # 戻り値：なし\n",
    "    #\n",
    "    ###############\n",
    "\n",
    "    global speech\n",
    "\n",
    "    speech = LiveSpeech (\n",
    "        verbose=False,\n",
    "        sampling_rate=16000,\n",
    "        buffer_size=2048,\n",
    "        no_search=False,\n",
    "        full_utt=False,\n",
    "        lm=False,\n",
    "        hmm=os.path.join(sphinx_model_path, 'en-us'),\n",
    "        dic=dict_path,\n",
    "        jsgf=gram_path\n",
    "    )\n",
    "    \n",
    "\n",
    "\n",
    "def main(number):\n",
    "\n",
    "    ###############\n",
    "    #\n",
    "    # 音声認識で認識して答えを求め発話する関数\n",
    "    #\n",
    "    # 引数：質問をする回数\n",
    "    #\n",
    "    # 返り値：なし\n",
    "    #\n",
    "    ###############\n",
    "\n",
    "    setup_LiveSpech()\n",
    "    count = 0\n",
    "    while count < number:\n",
    "        module_beep.beep(\"start\")\n",
    "        print(\"[*] LISTENING ..............\", flush=True)\n",
    "        for question in speech:\n",
    "            question = str(question)\n",
    "            if not question in qa_dictionary.keys():\n",
    "                continue\n",
    "            print(\"\\n--------------------------- your question ---------------------------\", flush=True)\n",
    "            print(question, flush=True)\n",
    "            print(\"------------------------------------------------------------------------\", flush=True)\n",
    "            module_beep.beep(\"stop\")\n",
    "            module_speak.speak(str(qa_dictionary[question]))\n",
    "            count += 1\n",
    "            break\n",
    "\n",
    "\n",
    "if __name__=='__main__':\n",
    "    main(5)"
   ]
  },
  {
   "cell_type": "markdown",
   "metadata": {},
   "source": [
    "## 3 作成開始！\n",
    "さてここから先程のプログラムを作ってきます．\n",
    "上のプログラムは主に \n",
    "1. 音声を認識して文字に変換 \n",
    "2. 辞書を操作して質問に対応する答えを求める\n",
    "3. 求めた答えを発話\n",
    "という3つに分かれています．それぞれについて順番にプログラムを作成していきましょう"
   ]
  },
  {
   "cell_type": "markdown",
   "metadata": {},
   "source": [
    "### 3.1 音声認識\n",
    "まずは発話した音声を認識して．それを文字に変換します.\n",
    "音声認識には「Google Speech Recognition」や「PocketSphinx」というものを使っています．ここではその両方を使ってみましょう．\n",
    "\n",
    "#### 3.1.1 Google Speech Recognition"
   ]
  },
  {
   "cell_type": "code",
   "execution_count": null,
   "metadata": {},
   "outputs": [],
   "source": [
    "# Google Speech Recognitionをインストール(ターミナルを開いて以下のコードを一行づつ実行しましょう)\n",
    "pip3 install SpeechRecognition --user\n",
    "sudo apt install portaudio19-dev\n",
    "sudo apt install python-pyaudio python3-pyaudio\n",
    "pip3 install pyaudio"
   ]
  },
  {
   "cell_type": "code",
   "execution_count": null,
   "metadata": {},
   "outputs": [],
   "source": [
    "#!/usr/bin/env python3                                                                                \n",
    "\n",
    "import speech_recognition as sr  \n",
    "\n",
    "# マイクロフォンから音声を取得\n",
    "r = sr.Recognizer()                                                                                   \n",
    "with sr.Microphone() as source:  \n",
    "    r.adjust_for_ambient_noise(source)                                                                     \n",
    "    print(\"\\nSay something!\\n\")                                                                                   \n",
    "    audio = r.listen(source)   \n",
    "\n",
    "try:\n",
    "    print(\"-----------you said----------\\n\",r.recognize_google(audio), \"\\n-----------------------------\")\n",
    "except sr.UnknownValueError:\n",
    "    print(\"Could not understand audio\")\n",
    "except sr.RequestError as e:\n",
    "    print(\"Could not request results; {0}\".format(e))"
   ]
  },
  {
   "cell_type": "markdown",
   "metadata": {},
   "source": [
    "#### 3.1.2 PocketSphinx"
   ]
  },
  {
   "cell_type": "code",
   "execution_count": null,
   "metadata": {},
   "outputs": [],
   "source": [
    "python -m pip install --upgrade pip setuptools wheel\n",
    "pip install --upgrade pocketsphinx"
   ]
  },
  {
   "cell_type": "markdown",
   "metadata": {},
   "source": [
    "実際に使ってみましょう"
   ]
  },
  {
   "cell_type": "code",
   "execution_count": null,
   "metadata": {},
   "outputs": [],
   "source": [
    "# パッケージをインストール\n",
    "from pocketsphinx import LiveSpeech\n",
    "\n",
    "print(\"何か話しかけてください\")\n",
    "for phrase in LiveSpeech(): \n",
    "    print(phrase) "
   ]
  },
  {
   "cell_type": "markdown",
   "metadata": {},
   "source": [
    "すると何か英文が表示されたと思います．これは喋って音声を認識してそれを表示しています．しかし，先ほどと違って話した単語が正確に認識されていないでしょう．音声認識は非常に難しいため素で行うとこんなにもひどい精度のものになってしまいます．\n",
    "これらを改善するための方法はいくつかあるのですが，このPocketSphinxには単語辞書と文法辞書というものを作ることで，高い精度で音声認識を行うことができるようになっています．\n",
    "\n",
    "その説明は14期生の東雲さんの開発日誌に詳しく載っているのでそれを見てください\n",
    "リンク: http://rione.org/dokuwiki/14%E6%9C%9F%E7%94%9F/%E6%9D%B1%E9%9B%B2%E9%99%BD%E7%BE%8E/%E9%96%8B%E7%99%BA%E6%97%A5%E8%AA%8C \n (旧wiki http://rione.org/protected/pukiwiki/?Member/14%E6%9C%9F%E7%94%9F/%E6%9D%B1%E9%9B%B2%E9%99%BD%E7%BE%8E/%E9%96%8B%E7%99%BA%E6%97%A5%E8%AA%8C)"
   ]
  },
  {
   "cell_type": "markdown",
   "metadata": {},
   "source": [
    "それでは最初のコードを参考にして，発話した質問文が正確に表示されるようなコードを書いてみましょう."
   ]
  },
  {
   "cell_type": "code",
   "execution_count": null,
   "metadata": {},
   "outputs": [],
   "source": [
    "# 一応の答え\n",
    "\n",
    "def setup_LiveSpech(): # この関数はPocketSphinxの細かい設定なので「←ココ」と書いてある部分以外は特に気にせずに放置してください！\n",
    "\n",
    "    ###############\n",
    "    #\n",
    "    # pocketsphinxの設定を行う関数\n",
    "    #\n",
    "    # 引数：なし\n",
    "    # \n",
    "    # 戻り値：なし\n",
    "    #\n",
    "    ###############\n",
    "    \n",
    "    global speech\n",
    "    \n",
    "    speech = LiveSpeech (\n",
    "        verbose=False,\n",
    "        sampling_rate=16000,\n",
    "        buffer_size=2048,\n",
    "        no_search=False,\n",
    "        full_utt=False,\n",
    "        lm=False,\n",
    "        hmm=os.path.join(sphinx_model_path, 'en-us'), # ←ココ\n",
    "        dic=dict_path, # ←ココ\n",
    "        jsgf=gram_path # ←ココ\n",
    "    )\n",
    "\n",
    "\n",
    "if __name__ == '__main__':\n",
    "    setup_LiveSpech()\n",
    "    for question in speech:\n",
    "        question = str(question)\n",
    "        print(question)"
   ]
  },
  {
   "cell_type": "markdown",
   "metadata": {},
   "source": [
    "### 3.2 辞書操作\n",
    "3.1で認識できた質問文に対する答えを求めましょう．この部分はPythonの「辞書」について調べることができれば，簡単に作れると思います．質問文を入力すればその答えが表示される関数を書いてみましょう．"
   ]
  },
  {
   "cell_type": "code",
   "execution_count": null,
   "metadata": {},
   "outputs": [],
   "source": [
    "# たぶんCSVファイルから辞書を作るのは難しいかもしれへんから，「.txt」ファイル置いといてあげても良いかも\n",
    "\n",
    "def search_answer(question):\n",
    "    ### ここにコードを書いてね（何行になってもいいよ） ###\n",
    "    \n",
    "    \n",
    "    return answer\n",
    "    ##############################################\n",
    "    \n",
    "if __name__ == '__main__':\n",
    "    question = input('質問文を入力してください: ')"
   ]
  },
  {
   "cell_type": "markdown",
   "metadata": {},
   "source": [
    "### 3.3発話\n",
    "答えが分かれば音声を発話させましょう．音声発話には「Espeak」や「SvoxPico」を使っています．今回は「Espeak」を使ってみましょう．"
   ]
  },
  {
   "cell_type": "code",
   "execution_count": null,
   "metadata": {},
   "outputs": [],
   "source": [
    "from subprocess import call\n",
    "call([\"espeak\", \"Pen Pineapple Apple Pen\"])"
   ]
  },
  {
   "cell_type": "markdown",
   "metadata": {},
   "source": [
    "## 4 最終完成\n",
    "3.1〜3.3で作ったコードを組み合わせて，音声で質問に答えられるプログラムを書いてみましょう！\n",
    "完成したら二回生にみせて感想をもらってみても良いかもしれませんね！"
   ]
  },
  {
   "cell_type": "code",
   "execution_count": null,
   "metadata": {},
   "outputs": [],
   "source": [
    "# ここにコードを書いてください"
   ]
  },
  {
   "cell_type": "markdown",
   "metadata": {},
   "source": [
    "## 5 さいごに\n",
    "たいへんお疲れ様でした！ここまでこれればもう十分に実力はついています．内容は詳しく理解できていなくても動くコードを完成させることができれば全然大丈夫です！\n",
    "たっぷり休憩を取ってからあとは二回生に話を聞きながら実際の開発に加わるもよし，他の班の課題をやってみるのもよしです！！（「２何を作るのか」の項の「もっとレベルが上がると文章が多少違ってもその意味が同じであれば，答えを返してくれるレベルの高いものを作ることもできます！！」のやつに挑戦してみるのもいいですね！それについては少し難しいのでまず2回生に挑戦したい旨を伝えてくれれば，教えます）"
   ]
  }
 ],
 "metadata": {
  "kernelspec": {
   "display_name": "Python 3",
   "language": "python",
   "name": "python3"
  },
  "language_info": {
   "codemirror_mode": {
    "name": "ipython",
    "version": 3
   },
   "file_extension": ".py",
   "mimetype": "text/x-python",
   "name": "python",
   "nbconvert_exporter": "python",
   "pygments_lexer": "ipython3",
   "version": "3.6.9"
  }
 },
 "nbformat": 4,
 "nbformat_minor": 2
}
