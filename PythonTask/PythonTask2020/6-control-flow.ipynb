{
 "cells": [
  {
   "cell_type": "markdown",
   "metadata": {},
   "source": [
    "# 制御構造\n",
    "プログラムは入力された値に応じて, 様々な処理を行います. 制御構造を用いると, 条件分岐や反復処理などを実現できます."
   ]
  },
  {
   "cell_type": "markdown",
   "metadata": {},
   "source": [
    "## if 文\n",
    "if 文は条件分岐を実現します. if 文は次のように書きます.\n",
    "\n",
    "```\n",
    "if 条件1:\n",
    "    条件1が成立した時の処理\n",
    "elif 条件2:\n",
    "    条件1は成立しなかったが, 条件2が成立した時の処理\n",
    "else:\n",
    "    条件1も条件2も成立しなかった時の処理\n",
    "```"
   ]
  },
  {
   "cell_type": "code",
   "execution_count": null,
   "metadata": {},
   "outputs": [],
   "source": [
    "x = 75\n",
    "if x >= 80:\n",
    "    print(\"優\")\n",
    "elif x >= 70:\n",
    "    print(\"良\")\n",
    "elif x >= 60:\n",
    "    print(\"良\")\n",
    "else:\n",
    "    print(\"不可\")"
   ]
  },
  {
   "cell_type": "markdown",
   "metadata": {},
   "source": [
    "条件が成立するとは条件の値が `True` であることを意味し, 条件が成立しないとは条件の値が `False` であることを意味します.\n",
    "\n",
    "`>=` という演算子は真偽値 `True` または `False` を返すものです. 他にも `==`, `!=`, `<`, `<=`, `>` のような**比較演算子**があります.\n",
    "\n",
    "上の例の条件の値を実際に見てみましょう."
   ]
  },
  {
   "cell_type": "code",
   "execution_count": null,
   "metadata": {},
   "outputs": [],
   "source": [
    "x = 75\n",
    "print(x >= 80)\n",
    "print(x >= 70)\n",
    "print(x >= 60)"
   ]
  },
  {
   "cell_type": "markdown",
   "metadata": {},
   "source": [
    "前の章の `in` 演算子も真偽値 `True` または `False` を返すものでした. if 文と組み合わせて次のようなプログラムが作れます."
   ]
  },
  {
   "cell_type": "code",
   "execution_count": null,
   "metadata": {},
   "outputs": [],
   "source": [
    "eiwa = {\n",
    "    \"apple\": \"りんご\",\n",
    "    \"dog\": \"イヌ\",\n",
    "    \"egg\": \"卵\"\n",
    "}\n",
    "\n",
    "if \"dog\" in eiwa:\n",
    "    print(\"dog は eiwa のキーです\")\n",
    "else:\n",
    "    print(\"dog は eiwa のキーではありません\")\n",
    "\n",
    "if \"cat\" in eiwa:\n",
    "    print(\"cat は eiwa のキーです\")\n",
    "else:\n",
    "    print(\"cat は eiwa のキーではありません\")"
   ]
  },
  {
   "cell_type": "markdown",
   "metadata": {},
   "source": [
    "## for 文\n",
    "for 文は反復処理を実現します. Python の for 文は次のように書きます.\n",
    "\n",
    "```\n",
    "for 変数名 in 反復するデータ:\n",
    "    処理\n",
    "```\n",
    "\n",
    "Python では C などのプログラミング言語と違い, リストや文字列のシーケンス型について反復処理を行えます."
   ]
  },
  {
   "cell_type": "code",
   "execution_count": null,
   "metadata": {},
   "outputs": [],
   "source": [
    "primes = [2, 3, 5, 7, 11, 13]\n",
    "print(\"素数の先頭6個:\")\n",
    "for prime in primes:\n",
    "    print(prime)\n",
    "\n",
    "print(\"文字列を1文字ずつ:\")\n",
    "for char in \"文字列\":\n",
    "    print(char)"
   ]
  },
  {
   "cell_type": "markdown",
   "metadata": {},
   "source": [
    "`range()` 関数を使うと, 簡単に数列を作ることができます."
   ]
  },
  {
   "cell_type": "code",
   "execution_count": null,
   "metadata": {},
   "outputs": [],
   "source": [
    "for i in range(10):\n",
    "    print(i)"
   ]
  },
  {
   "cell_type": "markdown",
   "metadata": {},
   "source": [
    "前の章で紹介した `dict.items()` はペア (タプル) のリストを返す関数でした. Python の for ではペアのリストについても簡単に反復処理が行えます."
   ]
  },
  {
   "cell_type": "code",
   "execution_count": null,
   "metadata": {},
   "outputs": [],
   "source": [
    "print(eiwa.items())\n",
    "\n",
    "for english, japanese in eiwa.items():\n",
    "    # english と japanese にペアの値がそれぞれ入ります\n",
    "    print(\"英語: \" + english)\n",
    "    print(\"日本語: \" + japanese)"
   ]
  },
  {
   "cell_type": "markdown",
   "metadata": {},
   "source": [
    "## 練習\n",
    "- ある変数の値が偶数か奇数か判定して結果を表示するプログラムを作ってみましょう\n",
    "- 0から100までの数を順に表示するプログラムを作ってみましょう\n",
    "  - 出力例: `0 1 2 3 ... 100`\n",
    "- 0から100までの数の総和を表示するプログラムを作ってみましょう\n",
    "  - 出力例: `5050`\n",
    "- 0から100までの数のうち, 奇数だけを順に表示するプログラムを作ってみましょう\n",
    "  - 出力例: `1 3 5 ... 99`\n",
    "- ある変数の値が素数かどうか判定して結果を表示するプログラムを作ってみましょう\n",
    "- 2から100までの数のうち, 素数だけを順に表示するプログラムを作ってみましょう\n",
    "  - 出力例: `2 3 5 7 ...`"
   ]
  }
 ],
 "metadata": {
  "kernelspec": {
   "display_name": "Python 3",
   "language": "python",
   "name": "python3"
  },
  "language_info": {
   "codemirror_mode": {
    "name": "ipython",
    "version": 3
   },
   "file_extension": ".py",
   "mimetype": "text/x-python",
   "name": "python",
   "nbconvert_exporter": "python",
   "pygments_lexer": "ipython3",
   "version": "3.6.9"
  }
 },
 "nbformat": 4,
 "nbformat_minor": 1
}
